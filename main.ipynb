{
 "cells": [
  {
   "cell_type": "code",
   "execution_count": null,
   "metadata": {},
   "outputs": [],
   "source": [
    "# Install packages\n",
    "%pip install networkx\n",
    "%pip install numpy\n",
    "%pip install tqdm\n",
    "%pip install matplotlib"
   ]
  },
  {
   "cell_type": "code",
   "execution_count": null,
   "metadata": {},
   "outputs": [],
   "source": [
    "# For sdp_algorithm\n",
    "# %pip install cmake\n",
    "# %pip install ecos==2.0.5\n",
    "# %pip install cvxpy"
   ]
  },
  {
   "cell_type": "code",
   "execution_count": null,
   "metadata": {},
   "outputs": [],
   "source": [
    "from starter import *\n",
    "from greedy_algorithm import *\n",
    "from k_cut_algorithm import *\n",
    "from simulated_annealing import *\n",
    "import random"
   ]
  },
  {
   "cell_type": "code",
   "execution_count": null,
   "metadata": {},
   "outputs": [],
   "source": [
    "import importlib\n",
    "import starter\n",
    "import greedy_algorithm\n",
    "import k_cut_algorithm\n",
    "import simulated_annealing\n",
    "importlib.reload(starter)\n",
    "importlib.reload(greedy_algorithm)\n",
    "importlib.reload(k_cut_algorithm)\n",
    "importlib.reload(simulated_annealing)\n",
    "from starter import *\n",
    "from greedy_algorithm import *\n",
    "from k_cut_algorithm import *\n",
    "from simulated_annealing import *"
   ]
  },
  {
   "cell_type": "markdown",
   "metadata": {},
   "source": [
    "# Phase 1 - Create Inputs"
   ]
  },
  {
   "cell_type": "code",
   "execution_count": null,
   "metadata": {},
   "outputs": [],
   "source": [
    "# Add edges with G.add_edge(u, v, weight=w)\n",
    "# Idea: consider making the inputs with a solution in mind, \n",
    "# such that you know the solution when the outputs are released\n",
    "\n",
    "def small(G: nx.Graph):\n",
    "    # Each even node connects to each odd node, with 'random' weight\n",
    "    # Optimal Solution: Partition into odd and even teams\n",
    "    for i in range(100):\n",
    "        for j in range(i + 1, (100 - i) // 2):\n",
    "            G.add_edge(i, i + 2 * j, weight=min(int(math.sin(i + j) * 500 + 850), int(math.cos(2 * j + i) * 500 + 850), 1000))\n",
    "    \n",
    "def medium(G: nx.Graph):\n",
    "    # Each node connects to its first 20 multiples, with the closer multiples having larger weights\n",
    "    # Optimal Solution: Partition such that co-primeness between groups are maximized\n",
    "    for i in range(300):\n",
    "        for j in range(20):\n",
    "            if i != (i * j) % 300:\n",
    "                G.add_edge(i, (i * j) % 300, weight=40 * (20 - j + 1))\n",
    "    \n",
    "def large(G: nx.Graph):\n",
    "    # Completely random graph, where each node has between 5 and 15 edges, to any other node with random weight\n",
    "    # Optimal Solution: Unknown\n",
    "    for i in range(1000):\n",
    "        for _ in range(random.randint(5, 15)):\n",
    "            j = random.randint(1, 999)\n",
    "            if i != j:\n",
    "                G.add_edge(i, j, weight=random.randint(1, 1000))"
   ]
  },
  {
   "cell_type": "markdown",
   "metadata": {},
   "source": [
    "# Phase 2 - Implement your Solver"
   ]
  },
  {
   "cell_type": "code",
   "execution_count": null,
   "metadata": {},
   "outputs": [],
   "source": [
    "def random_solve(G: nx.Graph, k):\n",
    "    \"\"\"Randomly partitions G into a random number of teams.\"\"\"\n",
    "    max_per_team = len(G.nodes) / k\n",
    "    teams = [0 for _ in range(k)]\n",
    "    for v in G.nodes:\n",
    "        look_for_team = True\n",
    "        while look_for_team:\n",
    "            this_team = random.randint(1, k)\n",
    "            if teams[this_team - 1] < max_per_team:\n",
    "                G.nodes[v]['team'] = this_team\n",
    "                teams[this_team - 1] += 1\n",
    "                look_for_team = False"
   ]
  },
  {
   "cell_type": "code",
   "execution_count": null,
   "metadata": {},
   "outputs": [],
   "source": [
    "def current_solve(in_file):\n",
    "    def current_solve_helper(G: nx.Graph):\n",
    "        file_name = in_file[in_file.index(\"/\") + 1:]\n",
    "        file_name = file_name[:file_name.index(\"in\")]\n",
    "        instance = read_input(in_file)\n",
    "        current_solution = read_output(instance, \"outputs\" + \"/\" + file_name + \"out\")\n",
    "        for v in G.nodes:\n",
    "            G.nodes[v]['team'] = current_solution.nodes[v]['team']\n",
    "    return current_solve_helper"
   ]
  },
  {
   "cell_type": "code",
   "execution_count": null,
   "metadata": {},
   "outputs": [],
   "source": [
    "input = 'inputs/large169.in' # Edit this to test a specific input\n",
    "\n",
    "solvers = [current_solve(input)] # A list of solvers to test\n",
    "\n",
    "for solver in solvers:\n",
    "    G = read_input(input)\n",
    "    solver(G)\n",
    "    validate_output(G)\n",
    "    visualize(G)\n",
    "    print(solver.__name__, score(G))"
   ]
  },
  {
   "cell_type": "code",
   "execution_count": null,
   "metadata": {},
   "outputs": [],
   "source": [
    "# TODO: Write a function that can separate which inputs to run, given a class (small, medium, large) and range of numbers\n",
    "\n",
    "run_all(greedy_algorithm, 'inputs', 'outputs')"
   ]
  },
  {
   "cell_type": "code",
   "execution_count": null,
   "metadata": {},
   "outputs": [],
   "source": [
    "tar('outputs', True)"
   ]
  },
  {
   "cell_type": "code",
   "execution_count": null,
   "metadata": {},
   "outputs": [],
   "source": [
    "\n"
   ]
  }
 ],
 "metadata": {
  "kernelspec": {
   "display_name": "Python 3.10.1 64-bit",
   "language": "python",
   "name": "python3"
  },
  "language_info": {
   "codemirror_mode": {
    "name": "ipython",
    "version": 3
   },
   "file_extension": ".py",
   "mimetype": "text/x-python",
   "name": "python",
   "nbconvert_exporter": "python",
   "pygments_lexer": "ipython3",
   "version": "3.10.1"
  },
  "vscode": {
   "interpreter": {
    "hash": "aee8b7b246df8f9039afb4144a1f6fd8d2ca17a180786b69acc140d282b71a49"
   }
  }
 },
 "nbformat": 4,
 "nbformat_minor": 1
}
