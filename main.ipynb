{
 "cells": [
  {
   "cell_type": "code",
   "execution_count": null,
   "metadata": {},
   "outputs": [],
   "source": [
    "# Install packages\n",
    "%pip install networkx\n",
    "%pip install numpy\n",
    "#%pip install tqdm\n",
    "%pip install matplotlib\n",
    "%pip install cmake\n",
    "%pip install ecos==2.0.5\n",
    "%pip install cvxpy"
   ]
  },
  {
   "cell_type": "code",
   "execution_count": null,
   "metadata": {},
   "outputs": [],
   "source": [
    "# The starter code is short and simple, take a look!\n",
    "\n",
    "from starter import *\n",
    "\n",
    "import random"
   ]
  },
  {
   "cell_type": "code",
   "execution_count": null,
   "metadata": {},
   "outputs": [],
   "source": [
    "import importlib\n",
    "import starter\n",
    "import greedy_algorithm\n",
    "import sdp_algorithm\n",
    "importlib.reload(starter)\n",
    "importlib.reload(greedy_algorithm)\n",
    "importlib.reload(sdp_algorithm)\n",
    "from starter import *\n",
    "from greedy_algorithm import *\n",
    "from sdp_algorithm import *"
   ]
  },
  {
   "cell_type": "markdown",
   "metadata": {},
   "source": [
    "# Phase 1 - Create Inputs"
   ]
  },
  {
   "cell_type": "code",
   "execution_count": null,
   "metadata": {},
   "outputs": [],
   "source": [
    "# Add edges with G.add_edge(u, v, weight=w)\n",
    "# Idea: consider making the inputs with a solution in mind, \n",
    "# such that you know the solution when the outputs are released\n",
    "\n",
    "def small(G: nx.Graph):\n",
    "    # Each even node connects to each odd node, with 'random' weight\n",
    "    # Optimal Solution: Partition into odd and even teams\n",
    "    for i in range(100):\n",
    "        for j in range(i + 1, (100 - i) // 2):\n",
    "            G.add_edge(i, i + 2 * j, weight=min(int(math.sin(i + j) * 500 + 850), int(math.cos(2 * j + i) * 500 + 850), 1000))\n",
    "    \n",
    "def medium(G: nx.Graph):\n",
    "    # Each node connects to its first 20 multiples, with the closer multiples having larger weights\n",
    "    # Optimal Solution: Partition such that co-primeness between groups are maximized\n",
    "    for i in range(300):\n",
    "        for j in range(20):\n",
    "            if i != (i * j) % 300:\n",
    "                G.add_edge(i, (i * j) % 300, weight=40 * (20 - j + 1))\n",
    "    \n",
    "def large(G: nx.Graph):\n",
    "    # Completely random graph, where each node has between 5 and 15 edges, to any other node with random weight\n",
    "    # Optimal Solution: Unknown\n",
    "    for i in range(1000):\n",
    "        for _ in range(random.randint(5, 15)):\n",
    "            j = random.randint(1, 999)\n",
    "            if i != j:\n",
    "                G.add_edge(i, j, weight=random.randint(1, 1000))"
   ]
  },
  {
   "cell_type": "code",
   "execution_count": null,
   "metadata": {},
   "outputs": [],
   "source": [
    "# G = nx.empty_graph(N_SMALL)\n",
    "# small(G)\n",
    "# visualize(G)\n",
    "# write_input(G, 'inputs/small.in')\n",
    "\n",
    "# G = nx.empty_graph(N_MEDIUM)\n",
    "# medium(G)\n",
    "# visualize(G)\n",
    "# write_input(G, 'inputs/medium.in')\n",
    "\n",
    "# G = nx.empty_graph(N_LARGE)\n",
    "# large(G)\n",
    "# visualize(G)\n",
    "# write_input(G, 'inputs/large.in')"
   ]
  },
  {
   "cell_type": "markdown",
   "metadata": {},
   "source": [
    "# Phase 2 - Implement your Solver"
   ]
  },
  {
   "cell_type": "code",
   "execution_count": null,
   "metadata": {},
   "outputs": [],
   "source": [
    "from greedy_algorithm import *"
   ]
  },
  {
   "cell_type": "code",
   "execution_count": null,
   "metadata": {},
   "outputs": [],
   "source": [
    "def random_solve(G: nx.Graph):\n",
    "    \"\"\"Randomly partitions G into a random number of teams.\"\"\"\n",
    "    k = random.randint(5, 10)\n",
    "    max_per_team = len(G.nodes) / k\n",
    "    teams = [0 for _ in range(k)]\n",
    "    for v in G.nodes:\n",
    "        look_for_team = True\n",
    "        while look_for_team:\n",
    "            this_team = random.randint(1, k)\n",
    "            if teams[this_team - 1] < max_per_team:\n",
    "                G.nodes[v]['team'] = this_team\n",
    "                teams[this_team - 1] += 1\n",
    "                look_for_team = False"
   ]
  },
  {
   "cell_type": "code",
   "execution_count": null,
   "metadata": {},
   "outputs": [],
   "source": [
    "def current_solve(in_file):\n",
    "    def current_solve_helper(G: nx.Graph):\n",
    "        file_name = in_file[in_file.index(\"/\") + 1:]\n",
    "        file_name = file_name[:file_name.index(\"in\")]\n",
    "        instance = read_input(in_file)\n",
    "        current_solution = read_output(instance, \"outputs\" + \"/\" + file_name + \"out\")\n",
    "        for v in G.nodes:\n",
    "            G.nodes[v]['team'] = current_solution.nodes[v]['team']\n",
    "    return current_solve_helper"
   ]
  },
  {
   "cell_type": "code",
   "execution_count": null,
   "metadata": {},
   "outputs": [],
   "source": [
    "# Assign a team to v with G.nodes[v]['team'] = team_id\n",
    "# Access the team of v with team_id = G.nodes[v]['team']\n",
    "\n",
    "def solve(G: nx.Graph):\n",
    "    \n",
    "    # TODO: Try updating specific nodes, and seeing which changes to make based on homework 11 algorithm\n",
    "    # TODO: Decrease the amount of nodes updated as time goes on\n",
    "    # TODO: Do these steps for k-1, k, and k+1, pick the best\n",
    "\n",
    "    if len(G.nodes) > 350:\n",
    "        random_solve(G)\n",
    "    else:\n",
    "        k = optimize_k(G)\n",
    "        G = max_k_cut_solve(k)(G)"
   ]
  },
  {
   "cell_type": "code",
   "execution_count": null,
   "metadata": {},
   "outputs": [],
   "source": [
    "input = 'inputs/small1.in'\n",
    "\n",
    "solvers = [solve, current_solve(input)]\n",
    "\n",
    "for solver in solvers:\n",
    "    G = read_input(input)\n",
    "\n",
    "    k = solver(G)\n",
    "    validate_output(G)\n",
    "    visualize(G)\n",
    "    print(solver.__name__, score(G))\n",
    "\n",
    "# G = read_input('self_inputs/medium.in')\n",
    "# max_k_cut_solve(9)(G)\n",
    "# visualize(G)\n",
    "# print(score(G))\n"
   ]
  },
  {
   "cell_type": "code",
   "execution_count": null,
   "metadata": {},
   "outputs": [],
   "source": [
    "# run(max_k_cut_solve(2), 'self_inputs/small.in', 'self_outputs/small.out')"
   ]
  },
  {
   "cell_type": "code",
   "execution_count": 9,
   "metadata": {},
   "outputs": [],
   "source": [
    "# TODO: record the best solutions by only saving if the score is only than the previous best for that file\n",
    "for _ in range(500):\n",
    "    run_all(random_solve, 'inputs', 'outputs')"
   ]
  },
  {
   "cell_type": "code",
   "execution_count": null,
   "metadata": {},
   "outputs": [],
   "source": [
    "tar('outputs', True)"
   ]
  },
  {
   "cell_type": "code",
   "execution_count": null,
   "metadata": {},
   "outputs": [],
   "source": []
  }
 ],
 "metadata": {
  "kernelspec": {
   "display_name": "Python 3.6.9 64-bit",
   "language": "python",
   "name": "python3"
  },
  "language_info": {
   "codemirror_mode": {
    "name": "ipython",
    "version": 3
   },
   "file_extension": ".py",
   "mimetype": "text/x-python",
   "name": "python",
   "nbconvert_exporter": "python",
   "pygments_lexer": "ipython3",
   "version": "3.6.9"
  },
  "vscode": {
   "interpreter": {
    "hash": "31f2aee4e71d21fbe5cf8b01ff0e069b9275f58929596ceb00d14d90e3e16cd6"
   }
  }
 },
 "nbformat": 4,
 "nbformat_minor": 1
}
