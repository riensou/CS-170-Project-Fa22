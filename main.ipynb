{
 "cells": [
  {
   "cell_type": "code",
   "execution_count": null,
   "metadata": {},
   "outputs": [],
   "source": [
    "# Install packages\n",
    "%pip install networkx\n",
    "%pip install numpy\n",
    "%pip install tqdm\n",
    "%pip install matplotlib"
   ]
  },
  {
   "cell_type": "code",
   "execution_count": 10,
   "metadata": {},
   "outputs": [],
   "source": [
    "# The starter code is short and simple, take a look!\n",
    "from starter import *\n",
    "\n",
    "import random"
   ]
  },
  {
   "cell_type": "markdown",
   "metadata": {},
   "source": [
    "# Phase 1 - Create Inputs"
   ]
  },
  {
   "cell_type": "code",
   "execution_count": 11,
   "metadata": {},
   "outputs": [],
   "source": [
    "# Add edges with G.add_edge(u, v, weight=w)\n",
    "# Idea: consider making the inputs with a solution in mind, \n",
    "# such that you know the solution when the outputs are released\n",
    "\n",
    "def small(G: nx.Graph):\n",
    "    # Each even node connects to each odd node, with 'random' weight\n",
    "    # Optimal Solution: Partition into odd and even teams\n",
    "    for i in range(100):\n",
    "        for j in range(i + 1, (100 - i) // 2):\n",
    "            G.add_edge(i, i + 2 * j, weight=min(int(math.sin(i + j) * 500 + 850), int(math.cos(2 * j + i) * 500 + 850), 1000))\n",
    "    \n",
    "def medium(G: nx.Graph):\n",
    "    # Each node connects to its first 20 multiples, with the closer multiples having larger weights\n",
    "    # Optimal Solution: Partition such that co-primeness between groups are maximized\n",
    "    for i in range(300):\n",
    "        for j in range(20):\n",
    "            if i != (i * j) % 300:\n",
    "                G.add_edge(i, (i * j) % 300, weight=40 * (20 - j + 1))\n",
    "    \n",
    "def large(G: nx.Graph):\n",
    "    # Completely random graph, where each node has between 5 and 15 edges, to any other node with random weight\n",
    "    # Optimal Solution: Unknown\n",
    "    for i in range(1000):\n",
    "        for _ in range(random.randint(5, 15)):\n",
    "            j = random.randint(1, 999)\n",
    "            if i != j:\n",
    "                G.add_edge(i, j, weight=random.randint(1, 1000))"
   ]
  },
  {
   "cell_type": "code",
   "execution_count": 12,
   "metadata": {},
   "outputs": [],
   "source": [
    "# G = nx.empty_graph(N_SMALL)\n",
    "# small(G)\n",
    "# visualize(G)\n",
    "# write_input(G, 'inputs/small.in')\n",
    "\n",
    "# G = nx.empty_graph(N_MEDIUM)\n",
    "# medium(G)\n",
    "# visualize(G)\n",
    "# write_input(G, 'inputs/medium.in')\n",
    "\n",
    "# G = nx.empty_graph(N_LARGE)\n",
    "# large(G)\n",
    "# visualize(G)\n",
    "# write_input(G, 'inputs/large.in')"
   ]
  },
  {
   "cell_type": "markdown",
   "metadata": {},
   "source": [
    "# Phase 2 - Implement your Solver"
   ]
  },
  {
   "cell_type": "code",
   "execution_count": 13,
   "metadata": {},
   "outputs": [],
   "source": [
    "from greedy_algorithm import *"
   ]
  },
  {
   "cell_type": "code",
   "execution_count": 14,
   "metadata": {},
   "outputs": [],
   "source": [
    "def random_solve(G: nx.Graph):\n",
    "    \"\"\"Randomly partitions G into a random number of teams.\"\"\"\n",
    "    k = random.randint(1, 15)\n",
    "    for v in G.nodes:\n",
    "        G.nodes[v]['team'] = random.randint(1, k)"
   ]
  },
  {
   "cell_type": "code",
   "execution_count": 15,
   "metadata": {},
   "outputs": [],
   "source": [
    "# Assign a team to v with G.nodes[v]['team'] = team_id\n",
    "# Access the team of v with team_id = G.nodes[v]['team']\n",
    "\n",
    "def solve(G: nx.Graph):\n",
    "    \n",
    "    # TODO: Try updating specific nodes, and seeing which changes to make based on homework 11 algorithm\n",
    "    # TODO: Decrease the amount of nodes updated as time goes on\n",
    "    # TODO: Do these steps for k-1, k, and k+1, pick the best\n",
    "\n",
    "    k = optimize_k(G)\n",
    "    G = max_k_cut_solve(k)(G)"
   ]
  },
  {
   "cell_type": "code",
   "execution_count": null,
   "metadata": {},
   "outputs": [],
   "source": [
    "solvers = [solve]\n",
    "\n",
    "for solver in solvers:\n",
    "    G = read_input('self_inputs/medium246.in')\n",
    "    k = solver(G)\n",
    "    validate_output(G)\n",
    "    visualize(G)\n",
    "    print(solver.__name__, score(G))\n",
    "\n",
    "# G = read_input('self_inputs/medium.in')\n",
    "# max_k_cut_solve(9)(G)\n",
    "# visualize(G)\n",
    "# print(score(G))\n"
   ]
  },
  {
   "cell_type": "code",
   "execution_count": null,
   "metadata": {},
   "outputs": [],
   "source": [
    "# run(max_k_cut_solve(2), 'self_inputs/small.in', 'self_outputs/small.out')"
   ]
  },
  {
   "cell_type": "code",
   "execution_count": 16,
   "metadata": {},
   "outputs": [
    {
     "data": {
      "application/vnd.jupyter.widget-view+json": {
       "model_id": "7a150463c75a49bcbd105a47930f6b0c",
       "version_major": 2,
       "version_minor": 0
      },
      "text/plain": [
       "  0%|          | 0/780 [00:00<?, ?it/s]"
      ]
     },
     "metadata": {},
     "output_type": "display_data"
    },
    {
     "name": "stdout",
     "output_type": "stream",
     "text": [
      "inputs/large225.in: cost 6897317.996534252\n",
      "inputs/small232.in: cost 9617.914355500285\n",
      "inputs/large116.in: cost 1.1656026349855428e+21\n",
      "inputs/large59.in: cost 2364744709223.171\n",
      "inputs/small150.in: cost 109866.95653576212\n",
      "inputs/large147.in: cost 380879.3338147948\n",
      "inputs/small101.in: cost 153557.41592657613\n",
      "inputs/small197.in: cost 112447.56039956256\n",
      "inputs/small206.in: cost 274.5192813972861\n",
      "inputs/large240.in: cost 2252210.7083898\n",
      "inputs/medium7.in: cost 170341.82355708367\n",
      "inputs/small257.in: cost 241650.01581064696\n",
      "inputs/large180.in: cost 43979.602885328735\n",
      "inputs/large211.in: cost 58915.93818438831\n"
     ]
    }
   ],
   "source": [
    "# TODO: record the best solutions by only saving if the score is only than the previous best for that file\n",
    "\n",
    "run_all(solve, 'inputs', 'outputs')"
   ]
  },
  {
   "cell_type": "code",
   "execution_count": null,
   "metadata": {},
   "outputs": [],
   "source": [
    "tar('outputs', True)"
   ]
  },
  {
   "cell_type": "code",
   "execution_count": null,
   "metadata": {},
   "outputs": [],
   "source": []
  }
 ],
 "metadata": {
  "kernelspec": {
   "display_name": "Python 3.10.1 64-bit",
   "language": "python",
   "name": "python3"
  },
  "language_info": {
   "codemirror_mode": {
    "name": "ipython",
    "version": 3
   },
   "file_extension": ".py",
   "mimetype": "text/x-python",
   "name": "python",
   "nbconvert_exporter": "python",
   "pygments_lexer": "ipython3",
   "version": "3.10.1"
  },
  "vscode": {
   "interpreter": {
    "hash": "aee8b7b246df8f9039afb4144a1f6fd8d2ca17a180786b69acc140d282b71a49"
   }
  }
 },
 "nbformat": 4,
 "nbformat_minor": 1
}
